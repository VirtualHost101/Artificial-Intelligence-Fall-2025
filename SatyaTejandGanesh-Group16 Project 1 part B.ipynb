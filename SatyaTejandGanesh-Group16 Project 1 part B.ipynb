{
  "nbformat": 4,
  "nbformat_minor": 0,
  "metadata": {
    "colab": {
      "provenance": []
    },
    "kernelspec": {
      "name": "python3",
      "display_name": "Python 3"
    },
    "language_info": {
      "name": "python"
    }
  },
  "cells": [
    {
      "cell_type": "markdown",
      "source": [
        "# Worked in GROUP - 16\n",
        "\n",
        "\n",
        "Name: **SatyaTej Kammili**\n",
        "\n",
        "\n",
        "Student ID : **11911161**\n",
        "\n",
        "\n",
        "Contribution Made: R2, R5 and Github\n",
        "\n",
        "\n",
        "\n",
        "Name: **Merla Ganesh Reddy**\n",
        "\n",
        "\n",
        "Student ID: **11797294**\n",
        "\n",
        "\n",
        "Contribution Made: R3 and R4"
      ],
      "metadata": {
        "id": "srMCW2n0iLy0"
      }
    },
    {
      "cell_type": "markdown",
      "source": [
        "# Importing required libraries"
      ],
      "metadata": {
        "id": "VPlxgWKFi0Y4"
      }
    },
    {
      "cell_type": "code",
      "execution_count": 1,
      "metadata": {
        "colab": {
          "base_uri": "https://localhost:8080/",
          "height": 0
        },
        "id": "O4pSqzjLiGqO",
        "outputId": "8518eb7e-9e3f-4c0e-d077-635dd29c8ff5"
      },
      "outputs": [
        {
          "output_type": "stream",
          "name": "stdout",
          "text": [
            "Python: 3.12.11\n",
            "NetworkX: 3.5\n"
          ]
        }
      ],
      "source": [
        "!pip install --quiet networkx tqdm\n",
        "\n",
        "import os, sys, random\n",
        "import numpy as np\n",
        "import networkx as nx\n",
        "import matplotlib.pyplot as plt\n",
        "from tqdm import tqdm\n",
        "\n",
        "print(\"Python:\", sys.version.split()[0])\n",
        "print(\"NetworkX:\", nx.__version__)"
      ]
    },
    {
      "cell_type": "markdown",
      "source": [],
      "metadata": {
        "id": "dgd0cYKajpoq"
      }
    },
    {
      "cell_type": "markdown",
      "source": [
        "# Uploading \"Project 1 Part B Fall 2025.docx"
      ],
      "metadata": {
        "id": "51aRgXNejwPr"
      }
    },
    {
      "cell_type": "code",
      "source": [
        "from google.colab import files\n",
        "\n",
        "uploaded = files.upload()\n",
        "\n",
        "for fn in uploaded.keys():\n",
        "    print(\"Uploaded file:\", fn)\n"
      ],
      "metadata": {
        "colab": {
          "base_uri": "https://localhost:8080/",
          "height": 90
        },
        "id": "RUV1Z3wijtct",
        "outputId": "ee697d59-b00e-4f63-88d4-f9cba5da2c73"
      },
      "execution_count": 2,
      "outputs": [
        {
          "output_type": "display_data",
          "data": {
            "text/plain": [
              "<IPython.core.display.HTML object>"
            ],
            "text/html": [
              "\n",
              "     <input type=\"file\" id=\"files-6ecacb08-00e5-4de2-a6e7-1df87164bd2e\" name=\"files[]\" multiple disabled\n",
              "        style=\"border:none\" />\n",
              "     <output id=\"result-6ecacb08-00e5-4de2-a6e7-1df87164bd2e\">\n",
              "      Upload widget is only available when the cell has been executed in the\n",
              "      current browser session. Please rerun this cell to enable.\n",
              "      </output>\n",
              "      <script>// Copyright 2017 Google LLC\n",
              "//\n",
              "// Licensed under the Apache License, Version 2.0 (the \"License\");\n",
              "// you may not use this file except in compliance with the License.\n",
              "// You may obtain a copy of the License at\n",
              "//\n",
              "//      http://www.apache.org/licenses/LICENSE-2.0\n",
              "//\n",
              "// Unless required by applicable law or agreed to in writing, software\n",
              "// distributed under the License is distributed on an \"AS IS\" BASIS,\n",
              "// WITHOUT WARRANTIES OR CONDITIONS OF ANY KIND, either express or implied.\n",
              "// See the License for the specific language governing permissions and\n",
              "// limitations under the License.\n",
              "\n",
              "/**\n",
              " * @fileoverview Helpers for google.colab Python module.\n",
              " */\n",
              "(function(scope) {\n",
              "function span(text, styleAttributes = {}) {\n",
              "  const element = document.createElement('span');\n",
              "  element.textContent = text;\n",
              "  for (const key of Object.keys(styleAttributes)) {\n",
              "    element.style[key] = styleAttributes[key];\n",
              "  }\n",
              "  return element;\n",
              "}\n",
              "\n",
              "// Max number of bytes which will be uploaded at a time.\n",
              "const MAX_PAYLOAD_SIZE = 100 * 1024;\n",
              "\n",
              "function _uploadFiles(inputId, outputId) {\n",
              "  const steps = uploadFilesStep(inputId, outputId);\n",
              "  const outputElement = document.getElementById(outputId);\n",
              "  // Cache steps on the outputElement to make it available for the next call\n",
              "  // to uploadFilesContinue from Python.\n",
              "  outputElement.steps = steps;\n",
              "\n",
              "  return _uploadFilesContinue(outputId);\n",
              "}\n",
              "\n",
              "// This is roughly an async generator (not supported in the browser yet),\n",
              "// where there are multiple asynchronous steps and the Python side is going\n",
              "// to poll for completion of each step.\n",
              "// This uses a Promise to block the python side on completion of each step,\n",
              "// then passes the result of the previous step as the input to the next step.\n",
              "function _uploadFilesContinue(outputId) {\n",
              "  const outputElement = document.getElementById(outputId);\n",
              "  const steps = outputElement.steps;\n",
              "\n",
              "  const next = steps.next(outputElement.lastPromiseValue);\n",
              "  return Promise.resolve(next.value.promise).then((value) => {\n",
              "    // Cache the last promise value to make it available to the next\n",
              "    // step of the generator.\n",
              "    outputElement.lastPromiseValue = value;\n",
              "    return next.value.response;\n",
              "  });\n",
              "}\n",
              "\n",
              "/**\n",
              " * Generator function which is called between each async step of the upload\n",
              " * process.\n",
              " * @param {string} inputId Element ID of the input file picker element.\n",
              " * @param {string} outputId Element ID of the output display.\n",
              " * @return {!Iterable<!Object>} Iterable of next steps.\n",
              " */\n",
              "function* uploadFilesStep(inputId, outputId) {\n",
              "  const inputElement = document.getElementById(inputId);\n",
              "  inputElement.disabled = false;\n",
              "\n",
              "  const outputElement = document.getElementById(outputId);\n",
              "  outputElement.innerHTML = '';\n",
              "\n",
              "  const pickedPromise = new Promise((resolve) => {\n",
              "    inputElement.addEventListener('change', (e) => {\n",
              "      resolve(e.target.files);\n",
              "    });\n",
              "  });\n",
              "\n",
              "  const cancel = document.createElement('button');\n",
              "  inputElement.parentElement.appendChild(cancel);\n",
              "  cancel.textContent = 'Cancel upload';\n",
              "  const cancelPromise = new Promise((resolve) => {\n",
              "    cancel.onclick = () => {\n",
              "      resolve(null);\n",
              "    };\n",
              "  });\n",
              "\n",
              "  // Wait for the user to pick the files.\n",
              "  const files = yield {\n",
              "    promise: Promise.race([pickedPromise, cancelPromise]),\n",
              "    response: {\n",
              "      action: 'starting',\n",
              "    }\n",
              "  };\n",
              "\n",
              "  cancel.remove();\n",
              "\n",
              "  // Disable the input element since further picks are not allowed.\n",
              "  inputElement.disabled = true;\n",
              "\n",
              "  if (!files) {\n",
              "    return {\n",
              "      response: {\n",
              "        action: 'complete',\n",
              "      }\n",
              "    };\n",
              "  }\n",
              "\n",
              "  for (const file of files) {\n",
              "    const li = document.createElement('li');\n",
              "    li.append(span(file.name, {fontWeight: 'bold'}));\n",
              "    li.append(span(\n",
              "        `(${file.type || 'n/a'}) - ${file.size} bytes, ` +\n",
              "        `last modified: ${\n",
              "            file.lastModifiedDate ? file.lastModifiedDate.toLocaleDateString() :\n",
              "                                    'n/a'} - `));\n",
              "    const percent = span('0% done');\n",
              "    li.appendChild(percent);\n",
              "\n",
              "    outputElement.appendChild(li);\n",
              "\n",
              "    const fileDataPromise = new Promise((resolve) => {\n",
              "      const reader = new FileReader();\n",
              "      reader.onload = (e) => {\n",
              "        resolve(e.target.result);\n",
              "      };\n",
              "      reader.readAsArrayBuffer(file);\n",
              "    });\n",
              "    // Wait for the data to be ready.\n",
              "    let fileData = yield {\n",
              "      promise: fileDataPromise,\n",
              "      response: {\n",
              "        action: 'continue',\n",
              "      }\n",
              "    };\n",
              "\n",
              "    // Use a chunked sending to avoid message size limits. See b/62115660.\n",
              "    let position = 0;\n",
              "    do {\n",
              "      const length = Math.min(fileData.byteLength - position, MAX_PAYLOAD_SIZE);\n",
              "      const chunk = new Uint8Array(fileData, position, length);\n",
              "      position += length;\n",
              "\n",
              "      const base64 = btoa(String.fromCharCode.apply(null, chunk));\n",
              "      yield {\n",
              "        response: {\n",
              "          action: 'append',\n",
              "          file: file.name,\n",
              "          data: base64,\n",
              "        },\n",
              "      };\n",
              "\n",
              "      let percentDone = fileData.byteLength === 0 ?\n",
              "          100 :\n",
              "          Math.round((position / fileData.byteLength) * 100);\n",
              "      percent.textContent = `${percentDone}% done`;\n",
              "\n",
              "    } while (position < fileData.byteLength);\n",
              "  }\n",
              "\n",
              "  // All done.\n",
              "  yield {\n",
              "    response: {\n",
              "      action: 'complete',\n",
              "    }\n",
              "  };\n",
              "}\n",
              "\n",
              "scope.google = scope.google || {};\n",
              "scope.google.colab = scope.google.colab || {};\n",
              "scope.google.colab._files = {\n",
              "  _uploadFiles,\n",
              "  _uploadFilesContinue,\n",
              "};\n",
              "})(self);\n",
              "</script> "
            ]
          },
          "metadata": {}
        },
        {
          "output_type": "stream",
          "name": "stdout",
          "text": [
            "Saving Project 1 Part B Fall 2025.docx to Project 1 Part B Fall 2025.docx\n",
            "Uploaded file: Project 1 Part B Fall 2025.docx\n"
          ]
        }
      ]
    },
    {
      "cell_type": "markdown",
      "source": [
        "# Installing python-docx & Reading the document"
      ],
      "metadata": {
        "id": "JvKzm6IDkGE6"
      }
    },
    {
      "cell_type": "code",
      "source": [
        "\n",
        "!pip install --quiet python-docx\n",
        "\n",
        "from docx import Document\n",
        "\n",
        "\n",
        "doc = Document(\"Project 1 Part B Fall 2025.docx\")\n",
        "\n",
        "print(\"---- Document Content ----\\n\")\n",
        "for para in doc.paragraphs:\n",
        "    if para.text.strip():\n",
        "        print(para.text)\n"
      ],
      "metadata": {
        "colab": {
          "base_uri": "https://localhost:8080/",
          "height": 0
        },
        "id": "NVzXK-tlkEv-",
        "outputId": "89bf018c-12fe-4dc4-9d01-75568fd1fd43"
      },
      "execution_count": 3,
      "outputs": [
        {
          "output_type": "stream",
          "name": "stdout",
          "text": [
            "\u001b[?25l   \u001b[90m━━━━━━━━━━━━━━━━━━━━━━━━━━━━━━━━━━━━━━━━\u001b[0m \u001b[32m0.0/253.0 kB\u001b[0m \u001b[31m?\u001b[0m eta \u001b[36m-:--:--\u001b[0m\r\u001b[2K   \u001b[90m━━━━━━━━━━━━━━━━━━━━━━━━━━━━━━━━━━━━━━━━\u001b[0m \u001b[32m253.0/253.0 kB\u001b[0m \u001b[31m8.2 MB/s\u001b[0m eta \u001b[36m0:00:00\u001b[0m\n",
            "\u001b[?25h---- Document Content ----\n",
            "\n",
            "Project 1 Artificial Intelligence Fall 2025\n",
            "Distributed: Wednesday 27 August 2025\n",
            "Due Part A: Friday 5 September 2025\n",
            "Part B: Sunday 21 September 2025\n",
            "This project may be undertaken either individually or in pairs. Please state the names of the (person or persons undertaking the project and the contributions that each has made. Only ONE submission must be made per group.\n",
            "Purpose:  \n",
            "To gain a thorough understanding of the working of an agent to assist in navigation in a stochastic setting that mimics a real-world environment. Thus, this requires reading through the project specification carefully to make sure that you understand its requirements. Jot down any questions/doubts that you may have and feel free to ask me questions in class or in person. Together with your partner, work out a strategy before you start coding the solution in Python. Given the limited timeframe for the project, some simplifications have been applied. In all cases, when simplifications are used, they have been pointed out explicitly. You may find it useful to compile a) a list of all functional requirements and b) a list of all assumptions before starting to code.\n",
            "Environment Description: \n",
            "The application is centered around city planning with the objective of reducing traffic congestion and journey time. The city’s road network is modelled by a graph as shown below with nodes representing locations and edges representing roads connecting a pair of locations. Edges are bidirectional in the sense that journeys can take place in either direction along the edge. \n",
            "The objective of the city planner is to determine which new roads need to be built in order to meet the twin objectives of reducing journey time and traffic congestion. \n",
            "Strategy: \n",
            "In order for the planner to decide which new roads need to be built, traffic volumes need to be recorded across all segments of the existing network. A city-wide recording of traffic volumes is a time consuming and expensive exercise and hence city planners have decided to run a simulation to estimate traffic volumes across the road network.\n",
            "The Simulator: \n",
            "The simulator is based on a network environment called NetworkX which is a Python based toolkit. NetworkX is able to create graphs of different sizes and topologies. It also features a number of graph traversal algorithms that will automatically work out the shortest paths between any pair of points and hence it is the ideal environment to base our simulator. The basics of Networkx as it relates to this project will be covered in Tutorial 1 which will be available from Canvas from the day that this project description is published.\n",
            "In an ideal situation, data should be gathered by running the simulator over a long period of time in order to increase reliability in the data collection exercise. Due to the limited timeframe of this project, we will restrict the data gathering exercise to one day of simulation time.\n",
            "The simulator is driven by a clock and every clock tick represents a single second of time. The day spans a 10-hour period between 8 am and 6 pm. At each second of time (a clock tick) 100 trips are created, each of which will originate at a randomly chosen start location and end at another randomly chosen end location, which of course must be distinct from the start location. No trips are generated after the 36,000th clock tick which occurs at 6pm of simulation time.\n",
            "Each trip will be serviced by calling the A* algorithm to determine the shortest path length between the start and end locations. At the end of the simulation the number of trips over each road segment will be known. Once traffic volumes are gathered, a weighted measure of traffic volume (number of trips) along a road multiplied by its segment length can be used to determine which roads are the best candidates to be built (see Tutorial 2 on Canvas).\n",
            "Traffic Analysis: \n",
            "Once data has been gathered your algorithm and code needs to make recommendations as to which new roads need to be built. To illustrate, let’s take a very simple example (a more elaborate example will be covered in Tutorial 2). \n",
            "Suppose our road network consists of just 3 nodes A, B and C. Roads exist between A and B and between A and C but not between B and C. Suppose that the d(A,B)=10 miles and d(A,C)=17. Suppose that the number of trips along (B,C) is 37 and along (C,B) is 40. Suppose that the road (B,C) can be built with a length of 22 miles. Now the benefit of building (B,C) will be (10+17-22)*(37+40)= 385. If a more elaborate network was considered, then this value of 385 would need to be compared with the benefit of constructing another road (say (X,Y) and if that benefit happened to be 267 then naturally (B,C) will be built in preference to (X,Y) as it yields a bigger benefit.\n",
            "Simulation Parameters: \n",
            "The following parameters and their values need to be used:\n",
            "N: the number of locations (nodes) in the network. In general, this parameter’s value is variable, but for the purpose of this project we will keep it fixed at 60.\n",
            "p: the average connectivity of nodes across the network. For the network to be used for requirements R3 to R5 this will be fixed at .05. However, it is vital that the network is connected and if .05 does not result in a connected network increase the value progressively by .01 until connectivity is obtained. For R2 the p value will be 5, since the network is small.\n",
            "L: the road length parameter which lies in a range 5 to 25.\n",
            "T: the number of trips to be generated at each clock tick. Default value is 100. \n",
            "k: the budget parameter; this is the number of new roads that can be budgeted. Default value is 3.\n",
            "f: the shrinkage factor to use when determining the size of a new road. The length of existing roads is chosen at random from the parameter L. The length of new roads which represent direct connections between two locations need to be generated according to the expression:\n",
            "d(X,Y)=f(sp(X,Y)) where f is parameter that takes either values 0.6 or 0.8 and sp(X,Y) represents the length of the shortest path between X and Y as determined by A*. Default value of f is 0.6.\n",
            "Project Requirements\n",
            "Part B \n",
            "R2 Implement a Python program that incorporates the algorithm in R1 above on the network given below. \n",
            "Your program must show: \n",
            "The benefit values of constructing the following new roads:\n",
            "(0,1), (0,3), (1,3), (1,4), (2,4)\n",
            "Use a k value (budget) of 2, which two of the above roads would you recommend for construction? Remember that once the first road is constructed, benefits that you initially computed for the other 2 will now change and these will need to be recomputed. (30 marks)\n",
            "R3. To implement this requirement, you will use the program you developed in R2 with two changes. Firstly, you will replace the graph in R1 with a random graph of 60 nodes and secondly, you will use a connectivity of .05 (or the nearest value that gives full connectivity). Using the default values of T, k and f, your modified program should display:\n",
            "The k roads that need to be constructed. You may identify these roads by their start and end points.\t\t\t\t\t\t\t\t\t\t(20 marks)\n",
            "The benefit value for each of the 3 roads that you have recommended for construction\t\t\t\t\t\t\t\t\t\t\t\t(20 marks)\n",
            "R4. Using the same data that you gathered in R3, and with the same graph that you used in R3, now set f at 0.8 and display:\n",
            " The k roads that need to be constructed. You may identify these roads by their start and end points.\t\t\t\t\t\t\t\t\t\t(5 marks)\n",
            "The benefit value for each of the 3 roads that you have recommended for construction.\n",
            "\t\t\t\t\t\t\t\t\t\t(5 marks)\n",
            "Have your recommendations changed from R3? If so, why do you think they have changed?\n",
            "\t\t\t\t\t\t\t\t\t\t\t(10 marks)\n",
            "R5 Now double the connectivity you used in R3. You will need to re-run the simulation as the network has changed. By how much has the benefit values changed for the top 3 roads to be constructed? Why do you think these values have changed? \t\t\t\t(10 marks, 5 for values, 5 for reason)\n",
            "Hand in:\n",
            "For Part A\n",
            "A typewritten pdf document (not an image) containing your pseudo code for the algorithm required for requirement R1.\n",
            "For Part B\n",
            "A short report (between 1 and 2 pages in size) describing the approach that you took.  If working in a team of size 2, a clear demarcation of contribution between team members is required. \n",
            "Any additional assumptions that you made while undertaking this project.\n",
            "The complete set of Python code for requirements R2, R3, R4 and R5 that you used. This needs to be submitted both as a pdf document (no images please) and as a publicly accessible link.\n",
            "In addition to the code your pdf document must contain the answers to R3, R4 and R5. Note that the answers should not be buried in the code section but should be in a completely new section.\n"
          ]
        }
      ]
    },
    {
      "cell_type": "markdown",
      "source": [
        "# Creating fixed network graph & Adding Nodes for R2"
      ],
      "metadata": {
        "id": "Qj3lzws0n-sj"
      }
    },
    {
      "cell_type": "code",
      "source": [
        "G = nx.Graph()\n",
        "\n",
        "\n",
        "nodes = [0, 1, 2, 3, 4]\n",
        "G.add_nodes_from(nodes)\n",
        "\n",
        "\n",
        "edges = [\n",
        "    (0, 2, 10),\n",
        "    (0, 4, 15),\n",
        "    (1, 2, 12),\n",
        "    (3, 4, 8)\n",
        "]\n",
        "G.add_weighted_edges_from(edges)\n",
        "\n",
        "\n",
        "print(\"Nodes:\", G.nodes())\n",
        "print(\"Edges with weights:\", G.edges(data=True))\n"
      ],
      "metadata": {
        "colab": {
          "base_uri": "https://localhost:8080/",
          "height": 0
        },
        "id": "C_m1LpP9n_HT",
        "outputId": "85aefbe5-7b00-4c1f-b696-9cce60d9cc30"
      },
      "execution_count": 4,
      "outputs": [
        {
          "output_type": "stream",
          "name": "stdout",
          "text": [
            "Nodes: [0, 1, 2, 3, 4]\n",
            "Edges with weights: [(0, 2, {'weight': 10}), (0, 4, {'weight': 15}), (1, 2, {'weight': 12}), (3, 4, {'weight': 8})]\n"
          ]
        }
      ]
    },
    {
      "cell_type": "markdown",
      "source": [
        "# Simulating trips and computing shortest paths"
      ],
      "metadata": {
        "id": "zDYEaD3fogaw"
      }
    },
    {
      "cell_type": "code",
      "source": [
        "T = 100\n",
        "ticks = 1\n",
        "\n",
        "for u, v in G.edges():\n",
        "    G[u][v]['trips'] = 0\n",
        "\n",
        "\n",
        "def get_path_edges(path):\n",
        "    return [(path[i], path[i+1]) for i in range(len(path)-1)]\n",
        "\n",
        "\n",
        "for _ in range(ticks):\n",
        "    for _ in range(T):\n",
        "        start, end = random.sample(nodes, 2)\n",
        "        path = nx.astar_path(G, start, end, weight='weight')\n",
        "        for u, v in get_path_edges(path):\n",
        "            G[u][v]['trips'] += 1\n",
        "\n",
        "\n",
        "for u, v, data in G.edges(data=True):\n",
        "    print(f\"Edge ({u},{v}) - Weight: {data['weight']}, Trips: {data['trips']}\")\n"
      ],
      "metadata": {
        "colab": {
          "base_uri": "https://localhost:8080/",
          "height": 0
        },
        "id": "_HVzDnX-ooDH",
        "outputId": "05f2aad1-cbcb-4bcf-94e0-5bc733b42976"
      },
      "execution_count": 5,
      "outputs": [
        {
          "output_type": "stream",
          "name": "stdout",
          "text": [
            "Edge (0,2) - Weight: 10, Trips: 62\n",
            "Edge (0,4) - Weight: 15, Trips: 58\n",
            "Edge (1,2) - Weight: 12, Trips: 37\n",
            "Edge (3,4) - Weight: 8, Trips: 41\n"
          ]
        }
      ]
    },
    {
      "cell_type": "markdown",
      "source": [
        "# Computing the benefit of proposed new roads\n",
        "\n",
        "Formula using\n",
        "\n",
        "Benefit =\n",
        "(\n",
        "Current shortest path length\n",
        "−\n",
        "New road length\n",
        ")\n",
        "×\n",
        "Sum of trips along the path\n",
        "\n",
        "Using shrinkage factor f = 0.6 to estimate the new road lengths"
      ],
      "metadata": {
        "id": "X5imQLvApOdt"
      }
    },
    {
      "cell_type": "code",
      "source": [
        "candidates = [(0,1), (0,3), (1,3), (1,4), (2,4)]\n",
        "f = 0.6\n",
        "benefits = {}\n",
        "for u, v in candidates:\n",
        "    sp_length = nx.astar_path_length(G, u, v, weight='weight')\n",
        "    new_road_length = f * sp_length\n",
        "\n",
        "    path = nx.astar_path(G, u, v, weight='weight')\n",
        "    trips_sum = sum(G[path[i]][path[i+1]]['trips'] for i in range(len(path)-1))\n",
        "    benefit = (sp_length - new_road_length) * trips_sum\n",
        "    benefits[(u,v)] = benefit\n",
        "\n",
        "for road, value in benefits.items():\n",
        "    print(f\"Road {road} - Benefit: {value:.2f}\")\n"
      ],
      "metadata": {
        "colab": {
          "base_uri": "https://localhost:8080/",
          "height": 0
        },
        "id": "94P9hkp_p4my",
        "outputId": "23c09c8c-c6f7-4beb-e9c0-f5abd7c933ca"
      },
      "execution_count": 6,
      "outputs": [
        {
          "output_type": "stream",
          "name": "stdout",
          "text": [
            "Road (0, 1) - Benefit: 871.20\n",
            "Road (0, 3) - Benefit: 910.80\n",
            "Road (1, 3) - Benefit: 3564.00\n",
            "Road (1, 4) - Benefit: 2323.60\n",
            "Road (2, 4) - Benefit: 1200.00\n"
          ]
        }
      ]
    },
    {
      "cell_type": "markdown",
      "source": [
        "# Which two roads to build"
      ],
      "metadata": {
        "id": "QuXg8g3BqN-v"
      }
    },
    {
      "cell_type": "code",
      "source": [
        "G_build = G.copy()\n",
        "remaining_candidates = candidates.copy()\n",
        "\n",
        "# First road\n",
        "first_road = max(benefits, key=benefits.get)\n",
        "print(f\"First road to build: {first_road} - Benefit: {benefits[first_road]:.2f}\")\n",
        "\n",
        "\n",
        "sp_length_first = nx.astar_path_length(G_build, first_road[0], first_road[1], weight='weight')\n",
        "new_length_first = f * sp_length_first\n",
        "G_build.add_edge(first_road[0], first_road[1], weight=new_length_first, trips=0)\n",
        "\n",
        "\n",
        "remaining_candidates.remove(first_road)\n",
        "\n",
        "# Recompute benefits\n",
        "new_benefits = {}\n",
        "for u, v in remaining_candidates:\n",
        "    sp_length = nx.astar_path_length(G_build, u, v, weight='weight')\n",
        "    new_road_length = f * sp_length\n",
        "    path = nx.astar_path(G_build, u, v, weight='weight')\n",
        "    trips_sum = sum(G_build[path[i]][path[i+1]]['trips'] for i in range(len(path)-1))\n",
        "    benefit = (sp_length - new_road_length) * trips_sum\n",
        "    new_benefits[(u,v)] = benefit\n",
        "\n",
        "# Second road\n",
        "second_road = max(new_benefits, key=new_benefits.get)\n",
        "print(f\"Second road to build: {second_road} - Benefit: {new_benefits[second_road]:.2f}\")\n"
      ],
      "metadata": {
        "colab": {
          "base_uri": "https://localhost:8080/",
          "height": 0
        },
        "id": "BRxaupzlqTlY",
        "outputId": "141bc014-47c1-45c6-cc34-95bd2c4ad75e"
      },
      "execution_count": 7,
      "outputs": [
        {
          "output_type": "stream",
          "name": "stdout",
          "text": [
            "First road to build: (1, 3) - Benefit: 3564.00\n",
            "Second road to build: (2, 4) - Benefit: 1200.00\n"
          ]
        }
      ]
    },
    {
      "cell_type": "markdown",
      "source": [
        "# Results:\n",
        "\n",
        "For R2:\n",
        "\n",
        "First road to build: (1, 3) – Benefit: 3564.00\n",
        "\n",
        "Second road to build: (2, 4) – Benefit: 1200.00"
      ],
      "metadata": {
        "id": "rzCjHStUqikP"
      }
    },
    {
      "cell_type": "markdown",
      "source": [
        "# R3 – Random 60-node network"
      ],
      "metadata": {
        "id": "cQoF6Ycnqtpo"
      }
    },
    {
      "cell_type": "markdown",
      "source": [
        "*   Creating a random graph with 60 nodes.\n",
        "*   Using a connectivity p = 0.05.\n",
        "*   Running the same traffic simulation and computing the top 3 roads to build\n",
        "\n",
        "\n",
        "\n",
        "\n"
      ],
      "metadata": {
        "id": "gSxWCue7q6og"
      }
    },
    {
      "cell_type": "code",
      "source": [
        "import numpy as np\n",
        "\n",
        "N = 60\n",
        "p = 0.05\n",
        "\n",
        "\n",
        "connected = False\n",
        "while not connected:\n",
        "    G_random = nx.gnp_random_graph(N, p)\n",
        "    connected = nx.is_connected(G_random)\n",
        "    if not connected:\n",
        "        p += 0.01\n",
        "\n",
        "\n",
        "for u, v in G_random.edges():\n",
        "    G_random[u][v]['weight'] = random.randint(5, 25)\n",
        "    G_random[u][v]['trips'] = 0\n",
        "\n",
        "print(f\"Random graph created with p={p:.2f} and {G_random.number_of_edges()} edges.\")\n"
      ],
      "metadata": {
        "colab": {
          "base_uri": "https://localhost:8080/",
          "height": 0
        },
        "id": "tQ7Aa-qNqiNd",
        "outputId": "c62f05da-7b59-4f66-cf82-434b4ee51426"
      },
      "execution_count": 8,
      "outputs": [
        {
          "output_type": "stream",
          "name": "stdout",
          "text": [
            "Random graph created with p=0.06 and 113 edges.\n"
          ]
        }
      ]
    },
    {
      "cell_type": "markdown",
      "source": [
        "# Simulating trips on the random graph\n",
        "\n",
        "*   T = 100 trips per tick\n",
        "*   ticks = 1\n",
        "*   Updating trips on each edge\n",
        "\n",
        "\n",
        "\n",
        "\n",
        "\n",
        "\n",
        "\n"
      ],
      "metadata": {
        "id": "-cYgHTxyrcPT"
      }
    },
    {
      "cell_type": "code",
      "source": [
        "T = 100\n",
        "ticks = 1\n",
        "nodes_random = list(G_random.nodes())\n",
        "\n",
        "for u, v in G_random.edges():\n",
        "    G_random[u][v]['trips'] = 0\n",
        "\n",
        "def get_path_edges(path):\n",
        "    return [(path[i], path[i+1]) for i in range(len(path)-1)]\n",
        "\n",
        "for _ in range(ticks):\n",
        "    for _ in range(T):\n",
        "        start, end = random.sample(nodes_random, 2)\n",
        "        path = nx.astar_path(G_random, start, end, weight='weight')\n",
        "        for u, v in get_path_edges(path):\n",
        "            G_random[u][v]['trips'] += 1\n",
        "\n",
        "sample_edges = list(G_random.edges(data=True))[:10]\n",
        "for u, v, data in sample_edges:\n",
        "    print(f\"Edge ({u},{v}) - Weight: {data['weight']}, Trips: {data['trips']}\")\n"
      ],
      "metadata": {
        "colab": {
          "base_uri": "https://localhost:8080/",
          "height": 0
        },
        "id": "SMBP4IkZrpFk",
        "outputId": "a70c7ef0-a3c1-4500-bd92-a0d0a687d500"
      },
      "execution_count": 9,
      "outputs": [
        {
          "output_type": "stream",
          "name": "stdout",
          "text": [
            "Edge (0,3) - Weight: 5, Trips: 7\n",
            "Edge (0,11) - Weight: 22, Trips: 2\n",
            "Edge (0,15) - Weight: 17, Trips: 1\n",
            "Edge (0,32) - Weight: 21, Trips: 1\n",
            "Edge (1,6) - Weight: 25, Trips: 1\n",
            "Edge (1,20) - Weight: 19, Trips: 1\n",
            "Edge (1,39) - Weight: 17, Trips: 3\n",
            "Edge (2,33) - Weight: 21, Trips: 2\n",
            "Edge (2,46) - Weight: 11, Trips: 2\n",
            "Edge (3,15) - Weight: 17, Trips: 0\n"
          ]
        }
      ]
    },
    {
      "cell_type": "markdown",
      "source": [
        "Computing benefits and recommend top 3 roads (R3)\n",
        "\n",
        "\n",
        "\n",
        "*   Generate candidate new roads: any pair of nodes not currently connected.\n",
        "*   Computing the benefits for each candidate using f = 0.6.\n",
        "*   Select the top 3 roads to build\n",
        "\n",
        "\n",
        "\n",
        "\n",
        "\n",
        "\n",
        "\n",
        "\n"
      ],
      "metadata": {
        "id": "delMhJEnuXDv"
      }
    },
    {
      "cell_type": "code",
      "source": [
        "f = 0.6\n",
        "k = 3\n",
        "\n",
        "\n",
        "candidates = [(u,v) for u in nodes_random for v in nodes_random if u < v and not G_random.has_edge(u,v)]\n",
        "\n",
        "\n",
        "def compute_benefit(G, u, v, f):\n",
        "    sp_length = nx.astar_path_length(G, u, v, weight='weight')\n",
        "    new_length = f * sp_length\n",
        "    path = nx.astar_path(G, u, v, weight='weight')\n",
        "    trips_sum = sum(G[path[i]][path[i+1]]['trips'] for i in range(len(path)-1))\n",
        "    return (sp_length - new_length) * trips_sum\n",
        "\n",
        "\n",
        "G_build = G_random.copy()\n",
        "recommended = []\n",
        "\n",
        "for _ in range(k):\n",
        "    benefits = {edge: compute_benefit(G_build, edge[0], edge[1], f) for edge in candidates}\n",
        "    best_road = max(benefits, key=benefits.get)\n",
        "    recommended.append((best_road, benefits[best_road]))\n",
        "\n",
        "    sp_length = nx.astar_path_length(G_build, best_road[0], best_road[1], weight='weight')\n",
        "    G_build.add_edge(best_road[0], best_road[1], weight=f*sp_length, trips=0)\n",
        "\n",
        "    candidates.remove(best_road)\n",
        "\n",
        "\n",
        "for i, (road, benefit) in enumerate(recommended, 1):\n",
        "    print(f\"Top {i} road to build: {road} - Benefit: {benefit:.2f}\")\n"
      ],
      "metadata": {
        "colab": {
          "base_uri": "https://localhost:8080/",
          "height": 0
        },
        "id": "vAgR8q6Wuo2x",
        "outputId": "a157fd3d-467c-42d8-ce7c-74ad85b357b0"
      },
      "execution_count": 10,
      "outputs": [
        {
          "output_type": "stream",
          "name": "stdout",
          "text": [
            "Top 1 road to build: (8, 9) - Benefit: 2530.00\n",
            "Top 2 road to build: (7, 35) - Benefit: 2038.40\n",
            "Top 3 road to build: (35, 53) - Benefit: 2035.20\n"
          ]
        }
      ]
    },
    {
      "cell_type": "markdown",
      "source": [
        "Results:\n",
        "\n",
        "*For R3*\n",
        "\n",
        "\n",
        "Top 3 roads to build (f = 0.6):\n",
        "\n",
        "\n",
        "\n",
        "1.   (8, 9) – Benefit: 2530.00\n",
        "2.   (7, 35) – Benefit: 2038.40\n",
        "3.   (35, 53) – Benefit: 2035.20\n",
        "\n",
        "\n",
        "\n",
        "\n",
        "\n"
      ],
      "metadata": {
        "id": "ZfxUU4vVu0st"
      }
    },
    {
      "cell_type": "markdown",
      "source": [
        "**R4 – Updating shrinkage factor f = 0.8 and recomputing benefits**"
      ],
      "metadata": {
        "id": "7MWZz5J6vFZl"
      }
    },
    {
      "cell_type": "code",
      "source": [
        "f = 0.8\n",
        "k = 3\n",
        "G_build = G_random.copy()\n",
        "candidates = [(u,v) for u in nodes_random for v in nodes_random if u < v and not G_build.has_edge(u,v)]\n",
        "recommended_f08 = []\n",
        "\n",
        "for _ in range(k):\n",
        "    benefits = {edge: compute_benefit(G_build, edge[0], edge[1], f) for edge in candidates}\n",
        "    best_road = max(benefits, key=benefits.get)\n",
        "    recommended_f08.append((best_road, benefits[best_road]))\n",
        "\n",
        "    sp_length = nx.astar_path_length(G_build, best_road[0], best_road[1], weight='weight')\n",
        "    G_build.add_edge(best_road[0], best_road[1], weight=f*sp_length, trips=0)\n",
        "\n",
        "    candidates.remove(best_road)\n",
        "\n",
        "\n",
        "for i, (road, benefit) in enumerate(recommended_f08, 1):\n",
        "    print(f\"Top {i} road to build (f=0.8): {road} - Benefit: {benefit:.2f}\")\n"
      ],
      "metadata": {
        "colab": {
          "base_uri": "https://localhost:8080/",
          "height": 0
        },
        "id": "ceKKbw99vd9r",
        "outputId": "5eb4c6ad-2cfb-402d-d7b0-a9d2eda4af2e"
      },
      "execution_count": 11,
      "outputs": [
        {
          "output_type": "stream",
          "name": "stdout",
          "text": [
            "Top 1 road to build (f=0.8): (8, 9) - Benefit: 1265.00\n",
            "Top 2 road to build (f=0.8): (9, 11) - Benefit: 1067.00\n",
            "Top 3 road to build (f=0.8): (8, 57) - Benefit: 1029.60\n"
          ]
        }
      ]
    },
    {
      "cell_type": "markdown",
      "source": [
        "# Results for R4:\n",
        "\n",
        "Top 3 roads to build (f = 0.8):\n",
        "\n",
        "\n",
        "\n",
        "1.   (8, 9) – Benefit: 1265.00\n",
        "2.   (9, 11) – Benefit: 1067.00\n",
        "3.   (8, 57) – Benefit: 1029.60\n",
        "\n",
        "**Observation**: The recommendations changed from R3. This happens because increasing f increases the length of the new road relative to the old shortest path (new_length = f * sp_length), which reduces the benefit for some roads and changes the ranking."
      ],
      "metadata": {
        "id": "F88_pMArvv5U"
      }
    },
    {
      "cell_type": "markdown",
      "source": [
        "# R5 – Double the connectivity and recomputing top 3 roads"
      ],
      "metadata": {
        "id": "QzZCarPbwOHl"
      }
    },
    {
      "cell_type": "markdown",
      "source": [
        "For R5:\n",
        "\n",
        "\n",
        "1.   Double p from R3 (p = 0.12).\n",
        "2.   Generate a new random connected graph with 60 nodes.\n",
        "3.   Simulate traffic, compute benefits, and get the top 3 roads.\n",
        "\n"
      ],
      "metadata": {
        "id": "dArmaYErwlu8"
      }
    },
    {
      "cell_type": "code",
      "source": [
        "p_new = 0.12\n",
        "connected = False\n",
        "while not connected:\n",
        "    G_new = nx.gnp_random_graph(N, p_new)\n",
        "    connected = nx.is_connected(G_new)\n",
        "    if not connected:\n",
        "        p_new += 0.01\n",
        "\n",
        "\n",
        "for u, v in G_new.edges():\n",
        "    G_new[u][v]['weight'] = random.randint(5, 25)\n",
        "    G_new[u][v]['trips'] = 0\n",
        "\n",
        "\n",
        "nodes_new = list(G_new.nodes())\n",
        "for _ in range(ticks):\n",
        "    for _ in range(T):\n",
        "        start, end = random.sample(nodes_new, 2)\n",
        "        path = nx.astar_path(G_new, start, end, weight='weight')\n",
        "        for i in range(len(path)-1):\n",
        "            u, v = path[i], path[i+1]\n",
        "            G_new[u][v]['trips'] += 1\n",
        "\n",
        "f = 0.6\n",
        "candidates_new = [(u,v) for u in nodes_new for v in nodes_new if u < v and not G_new.has_edge(u,v)]\n",
        "G_build = G_new.copy()\n",
        "recommended_new = []\n",
        "\n",
        "for _ in range(k):\n",
        "    benefits = {edge: compute_benefit(G_build, edge[0], edge[1], f) for edge in candidates_new}\n",
        "    best_road = max(benefits, key=benefits.get)\n",
        "    recommended_new.append((best_road, benefits[best_road]))\n",
        "    sp_length = nx.astar_path_length(G_build, best_road[0], best_road[1], weight='weight')\n",
        "    G_build.add_edge(best_road[0], best_road[1], weight=f*sp_length, trips=0)\n",
        "    candidates_new.remove(best_road)\n",
        "\n",
        "\n",
        "for i, (road, benefit) in enumerate(recommended_new, 1):\n",
        "    print(f\"Top {i} road to build with doubled connectivity: {road} - Benefit: {benefit:.2f}\")\n"
      ],
      "metadata": {
        "colab": {
          "base_uri": "https://localhost:8080/",
          "height": 0
        },
        "id": "PS5zeFNHwRqP",
        "outputId": "62aeba55-5016-4be5-8ebe-2754c2a26841"
      },
      "execution_count": 12,
      "outputs": [
        {
          "output_type": "stream",
          "name": "stdout",
          "text": [
            "Top 1 road to build with doubled connectivity: (11, 19) - Benefit: 644.00\n",
            "Top 2 road to build with doubled connectivity: (9, 18) - Benefit: 630.00\n",
            "Top 3 road to build with doubled connectivity: (5, 24) - Benefit: 570.00\n"
          ]
        }
      ]
    },
    {
      "cell_type": "markdown",
      "source": [
        "Results for R5.\n",
        "\n",
        "*   Top 3 roads with doubled connectivity (p ≈ 0.12):\n",
        "\n",
        "\n",
        "\n",
        "\n",
        "1.   (11, 19) – Benefit: 644.00\n",
        "2.   (9, 18) – Benefit: 630.00\n",
        "3.   (5, 24) – Benefit: 570.00\n",
        "\n",
        "\n",
        "\n",
        "*Observation*: The benefits decreased significantly compared to the lower connectivity network in R3. This happens because:\n",
        "\n",
        "\n",
        "*   Higher connectivity means there are more existing roads, so the shortest paths are shorter.\n",
        "\n",
        "*   Consequently, adding a new road reduces the path length less dramatically, lowering the benefit.\n",
        "\n",
        "*   The top candidate roads are different because the network topology changed, creating new bottlenecks in different places.\n",
        "\n",
        "\n",
        "\n",
        "\n",
        "\n",
        "\n",
        "\n",
        "\n"
      ],
      "metadata": {
        "id": "1jqFzXfLxMDv"
      }
    }
  ]
}